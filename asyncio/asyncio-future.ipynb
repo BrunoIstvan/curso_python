{
 "cells": [
  {
   "cell_type": "code",
   "execution_count": 1,
   "id": "21bb1a60",
   "metadata": {},
   "outputs": [
    {
     "name": "stdout",
     "output_type": "stream",
     "text": [
      "False\n",
      "True\n",
      "Bright\n"
     ]
    }
   ],
   "source": [
    "import asyncio\n",
    "from asyncio import Future\n",
    "\n",
    "\n",
    "async def main():\n",
    "    my_future = Future()\n",
    "    print(my_future.done())  # False\n",
    "\n",
    "    my_future.set_result('Bright')\n",
    "\n",
    "    print(my_future.done())  # True\n",
    "\n",
    "    print(my_future.result())\n",
    "\n",
    "\n",
    "# Esse código não vai funcionar dentro do Jupyter\n",
    "# asyncio.run(main())\n",
    "\n",
    "# Esse vai\n",
    "await main()"
   ]
  },
  {
   "cell_type": "code",
   "execution_count": 3,
   "id": "cdd885cc",
   "metadata": {},
   "outputs": [
    {
     "name": "stdout",
     "output_type": "stream",
     "text": [
      "Planning my future...\n",
      "Bright\n"
     ]
    }
   ],
   "source": [
    "from asyncio import Future\n",
    "import asyncio\n",
    "\n",
    "\n",
    "async def plan(my_future):\n",
    "    print('Planning my future...')\n",
    "    await asyncio.sleep(4)\n",
    "    my_future.set_result('Bright')\n",
    "\n",
    "\n",
    "def create() -> Future:\n",
    "    my_future = Future()\n",
    "    asyncio.create_task(plan(my_future))\n",
    "    return my_future\n",
    "\n",
    "\n",
    "async def main():\n",
    "    my_future = create()\n",
    "    result = await my_future\n",
    "\n",
    "    print(result)\n",
    "\n",
    "\n",
    "# Esse código não vai funcionar dentro do Jupyter\n",
    "# asyncio.run(main())\n",
    "\n",
    "# Esse vai\n",
    "await main()"
   ]
  },
  {
   "cell_type": "code",
   "execution_count": null,
   "id": "5b37812f",
   "metadata": {},
   "outputs": [],
   "source": []
  }
 ],
 "metadata": {
  "kernelspec": {
   "display_name": "Python 3 (ipykernel)",
   "language": "python",
   "name": "python3"
  },
  "language_info": {
   "codemirror_mode": {
    "name": "ipython",
    "version": 3
   },
   "file_extension": ".py",
   "mimetype": "text/x-python",
   "name": "python",
   "nbconvert_exporter": "python",
   "pygments_lexer": "ipython3",
   "version": "3.9.7"
  }
 },
 "nbformat": 4,
 "nbformat_minor": 5
}
