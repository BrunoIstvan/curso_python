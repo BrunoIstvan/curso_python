{
 "cells": [
  {
   "cell_type": "code",
   "execution_count": 5,
   "id": "0b549dd3",
   "metadata": {},
   "outputs": [
    {
     "name": "stdout",
     "output_type": "stream",
     "text": [
      "Calling API 1 ...\n",
      "Calling API 2 ...\n",
      "Calling API 3 ...\n",
      "Calling API 4 ...\n",
      "Calling API 5 ...\n",
      "Calling API 6 ...\n",
      "60 2 400 20 5 2000\n"
     ]
    }
   ],
   "source": [
    "import asyncio\n",
    "\n",
    "\n",
    "async def call_api(message, result, delay=3):\n",
    "    print(message)\n",
    "    await asyncio.sleep(delay)\n",
    "    return result\n",
    "\n",
    "\n",
    "async def main():\n",
    "    a, b, c, d, e, f = await asyncio.gather(\n",
    "        call_api(message='Calling API 1 ...', result = 60, delay = 3),\n",
    "        call_api(message='Calling API 2 ...', result = 2, delay = 4),\n",
    "        call_api(message='Calling API 3 ...', result = 400, delay = 2),\n",
    "        call_api(message='Calling API 4 ...', result = 20, delay = 1),\n",
    "        call_api(message='Calling API 5 ...', result = 5, delay = 5),\n",
    "        call_api(message='Calling API 6 ...', result = 2000, delay = 6)\n",
    "    )\n",
    "    print(a, b, c, d, e, f)\n",
    "    \n",
    "#     ou\n",
    "#     a = await asyncio.gather(\n",
    "#         call_api(message='Calling API 1 ...', result = 60, delay = 3),\n",
    "#         call_api(message='Calling API 2 ...', result = 2, delay = 4),\n",
    "#         call_api(message='Calling API 3 ...', result = 400, delay = 2),\n",
    "#         call_api(message='Calling API 4 ...', result = 20, delay = 1),\n",
    "#         call_api(message='Calling API 5 ...', result = 5, delay = 5),\n",
    "#         call_api(message='Calling API 6 ...', result = 2000, delay = 6)\n",
    "#     )\n",
    "#     for res in a:\n",
    "#         print(res)\n",
    "\n",
    "\n",
    "# Esse código não vai funcionar dentro do Jupyter\n",
    "# asyncio.run(main())\n",
    "\n",
    "# Esse vai\n",
    "await main()"
   ]
  },
  {
   "cell_type": "code",
   "execution_count": 6,
   "id": "f470c547",
   "metadata": {},
   "outputs": [
    {
     "name": "stdout",
     "output_type": "stream",
     "text": [
      "Calling API 1 ...\n",
      "Calling API 2 ...\n",
      "Calling API 4 ...\n"
     ]
    },
    {
     "ename": "APIError",
     "evalue": "API failed",
     "output_type": "error",
     "traceback": [
      "\u001b[0;31m---------------------------------------------------------------------------\u001b[0m",
      "\u001b[0;31mAPIError\u001b[0m                                  Traceback (most recent call last)",
      "\u001b[0;32m/var/folders/7t/l0db25bn04j0mmkky4r0y59h0000gn/T/ipykernel_87326/3166672249.py\u001b[0m in \u001b[0;36m<module>\u001b[0;34m\u001b[0m\n\u001b[1;32m     35\u001b[0m \u001b[0;34m\u001b[0m\u001b[0m\n\u001b[1;32m     36\u001b[0m \u001b[0;31m# Esse vai\u001b[0m\u001b[0;34m\u001b[0m\u001b[0;34m\u001b[0m\u001b[0m\n\u001b[0;32m---> 37\u001b[0;31m \u001b[0;32mawait\u001b[0m \u001b[0mmain\u001b[0m\u001b[0;34m(\u001b[0m\u001b[0;34m)\u001b[0m\u001b[0;34m\u001b[0m\u001b[0;34m\u001b[0m\u001b[0m\n\u001b[0m",
      "\u001b[0;32m/var/folders/7t/l0db25bn04j0mmkky4r0y59h0000gn/T/ipykernel_87326/3166672249.py\u001b[0m in \u001b[0;36mmain\u001b[0;34m()\u001b[0m\n\u001b[1;32m     22\u001b[0m \u001b[0;34m\u001b[0m\u001b[0m\n\u001b[1;32m     23\u001b[0m \u001b[0;32masync\u001b[0m \u001b[0;32mdef\u001b[0m \u001b[0mmain\u001b[0m\u001b[0;34m(\u001b[0m\u001b[0;34m)\u001b[0m\u001b[0;34m:\u001b[0m\u001b[0;34m\u001b[0m\u001b[0;34m\u001b[0m\u001b[0m\n\u001b[0;32m---> 24\u001b[0;31m     a, b, c, d = await asyncio.gather(\n\u001b[0m\u001b[1;32m     25\u001b[0m         \u001b[0mcall_api\u001b[0m\u001b[0;34m(\u001b[0m\u001b[0;34m'Calling API 1 ...'\u001b[0m\u001b[0;34m,\u001b[0m \u001b[0;36m100\u001b[0m\u001b[0;34m,\u001b[0m \u001b[0;36m5\u001b[0m\u001b[0;34m)\u001b[0m\u001b[0;34m,\u001b[0m\u001b[0;34m\u001b[0m\u001b[0;34m\u001b[0m\u001b[0m\n\u001b[1;32m     26\u001b[0m         \u001b[0mcall_api\u001b[0m\u001b[0;34m(\u001b[0m\u001b[0;34m'Calling API 2 ...'\u001b[0m\u001b[0;34m,\u001b[0m \u001b[0;36m200\u001b[0m\u001b[0;34m,\u001b[0m \u001b[0;36m2\u001b[0m\u001b[0;34m)\u001b[0m\u001b[0;34m,\u001b[0m\u001b[0;34m\u001b[0m\u001b[0;34m\u001b[0m\u001b[0m\n",
      "\u001b[0;32m/var/folders/7t/l0db25bn04j0mmkky4r0y59h0000gn/T/ipykernel_87326/3166672249.py\u001b[0m in \u001b[0;36mcall_api_failed\u001b[0;34m()\u001b[0m\n\u001b[1;32m     12\u001b[0m \u001b[0;32masync\u001b[0m \u001b[0;32mdef\u001b[0m \u001b[0mcall_api_failed\u001b[0m\u001b[0;34m(\u001b[0m\u001b[0;34m)\u001b[0m\u001b[0;34m:\u001b[0m\u001b[0;34m\u001b[0m\u001b[0;34m\u001b[0m\u001b[0m\n\u001b[1;32m     13\u001b[0m     \u001b[0;32mawait\u001b[0m \u001b[0masyncio\u001b[0m\u001b[0;34m.\u001b[0m\u001b[0msleep\u001b[0m\u001b[0;34m(\u001b[0m\u001b[0;36m3\u001b[0m\u001b[0;34m)\u001b[0m\u001b[0;34m\u001b[0m\u001b[0;34m\u001b[0m\u001b[0m\n\u001b[0;32m---> 14\u001b[0;31m     \u001b[0;32mraise\u001b[0m \u001b[0mAPIError\u001b[0m\u001b[0;34m(\u001b[0m\u001b[0;34m'API failed'\u001b[0m\u001b[0;34m)\u001b[0m\u001b[0;34m\u001b[0m\u001b[0;34m\u001b[0m\u001b[0m\n\u001b[0m\u001b[1;32m     15\u001b[0m \u001b[0;34m\u001b[0m\u001b[0m\n\u001b[1;32m     16\u001b[0m \u001b[0;34m\u001b[0m\u001b[0m\n",
      "\u001b[0;31mAPIError\u001b[0m: API failed"
     ]
    }
   ],
   "source": [
    "# Nesse exemplo, qualquer exceção irá derrubar a execução toda\n",
    "import asyncio\n",
    "\n",
    "\n",
    "class APIError(Exception):\n",
    "    def __init__(self, message):\n",
    "        self._message = message\n",
    "\n",
    "    def __str__(self):\n",
    "        return self._message\n",
    "\n",
    "\n",
    "async def call_api_failed():\n",
    "    await asyncio.sleep(3)\n",
    "    raise APIError('API failed')\n",
    "\n",
    "\n",
    "async def call_api(message, result, delay=3):\n",
    "    print(message)\n",
    "    await asyncio.sleep(delay)\n",
    "    return result\n",
    "\n",
    "\n",
    "async def main():\n",
    "    a, b, c, d = await asyncio.gather(\n",
    "        call_api('Calling API 1 ...', 100, 5),\n",
    "        call_api('Calling API 2 ...', 200, 2),\n",
    "        call_api_failed(),\n",
    "        call_api('Calling API 4 ...', 100, 3),\n",
    "    )\n",
    "    print(a, b, c, d)\n",
    "\n",
    "\n",
    "# Esse código não vai funcionar dentro do Jupyter\n",
    "# asyncio.run(main())\n",
    "\n",
    "# Esse vai\n",
    "await main()"
   ]
  },
  {
   "cell_type": "code",
   "execution_count": 8,
   "id": "49099a76",
   "metadata": {},
   "outputs": [
    {
     "name": "stdout",
     "output_type": "stream",
     "text": [
      "Calling API 1 ...\n",
      "Calling API 2 ...\n",
      "Calling API 4 ...\n",
      "100 200 <API failed> 100\n"
     ]
    }
   ],
   "source": [
    "# Nesse exemplo, qualquer exceção NÃO irá derrubar a execução toda\n",
    "import asyncio\n",
    "\n",
    "\n",
    "class APIError(Exception):\n",
    "    def __init__(self, message):\n",
    "        self._message = message\n",
    "\n",
    "    def __str__(self):\n",
    "        return self._message\n",
    "\n",
    "\n",
    "async def call_api_failed():\n",
    "    await asyncio.sleep(3)\n",
    "    raise APIError('<API failed>')\n",
    "\n",
    "\n",
    "async def call_api(message, result, delay=3):\n",
    "    print(message)\n",
    "    await asyncio.sleep(delay)\n",
    "    return result\n",
    "\n",
    "\n",
    "async def main():\n",
    "    a, b, c, d = await asyncio.gather(\n",
    "        call_api('Calling API 1 ...', 100, 5),\n",
    "        call_api('Calling API 2 ...', 200, 2),\n",
    "        call_api_failed(),\n",
    "        call_api('Calling API 4 ...', 100, 3),\n",
    "        return_exceptions=True\n",
    "    )\n",
    "    print(a, b, c, d)\n",
    "\n",
    "\n",
    "# Esse código não vai funcionar dentro do Jupyter\n",
    "# asyncio.run(main())\n",
    "\n",
    "# Esse vai\n",
    "await main()"
   ]
  },
  {
   "cell_type": "code",
   "execution_count": null,
   "id": "34d16d7c",
   "metadata": {},
   "outputs": [],
   "source": []
  }
 ],
 "metadata": {
  "kernelspec": {
   "display_name": "Python 3 (ipykernel)",
   "language": "python",
   "name": "python3"
  },
  "language_info": {
   "codemirror_mode": {
    "name": "ipython",
    "version": 3
   },
   "file_extension": ".py",
   "mimetype": "text/x-python",
   "name": "python",
   "nbconvert_exporter": "python",
   "pygments_lexer": "ipython3",
   "version": "3.9.7"
  }
 },
 "nbformat": 4,
 "nbformat_minor": 5
}
