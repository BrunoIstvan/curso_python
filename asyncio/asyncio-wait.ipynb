{
 "cells": [
  {
   "cell_type": "code",
   "execution_count": 4,
   "id": "e401a8e4",
   "metadata": {},
   "outputs": [
    {
     "name": "stdout",
     "output_type": "stream",
     "text": [
      "calling API 1...\n",
      "calling API 2...\n",
      "calling API 3...\n",
      "2\n",
      "1\n",
      "3\n"
     ]
    }
   ],
   "source": [
    "import asyncio\n",
    "from asyncio import create_task\n",
    "\n",
    "\n",
    "class APIError(Exception):\n",
    "    pass\n",
    "\n",
    "\n",
    "async def call_api(message, result=100, delay=3, raise_exception=False):\n",
    "    print(message)\n",
    "    await asyncio.sleep(delay)\n",
    "    if raise_exception:\n",
    "        raise APIError\n",
    "    else:\n",
    "        return result\n",
    "\n",
    "\n",
    "async def main():\n",
    "    task_1 = create_task(call_api('calling API 1...', result=1, delay=5))\n",
    "    task_2 = create_task(call_api('calling API 2...', result=2, delay=3))\n",
    "    task_3 = create_task(call_api('calling API 3...', result=3, delay=6))\n",
    "\n",
    "    pending = (task_1, task_2, task_3)\n",
    "\n",
    "    while pending:\n",
    "        done, pending = await asyncio.wait(\n",
    "            pending,\n",
    "            return_when=asyncio.FIRST_COMPLETED\n",
    "        )\n",
    "        result = done.pop().result()\n",
    "        print(result)\n",
    "\n",
    "\n",
    "# Esse código não vai funcionar dentro do Jupyter\n",
    "# asyncio.run(main())\n",
    "\n",
    "# Esse vai\n",
    "await main()"
   ]
  },
  {
   "cell_type": "code",
   "execution_count": null,
   "id": "e3372877",
   "metadata": {},
   "outputs": [],
   "source": []
  },
  {
   "cell_type": "code",
   "execution_count": null,
   "id": "c01a57cf",
   "metadata": {},
   "outputs": [],
   "source": []
  }
 ],
 "metadata": {
  "kernelspec": {
   "display_name": "Python 3 (ipykernel)",
   "language": "python",
   "name": "python3"
  },
  "language_info": {
   "codemirror_mode": {
    "name": "ipython",
    "version": 3
   },
   "file_extension": ".py",
   "mimetype": "text/x-python",
   "name": "python",
   "nbconvert_exporter": "python",
   "pygments_lexer": "ipython3",
   "version": "3.9.7"
  }
 },
 "nbformat": 4,
 "nbformat_minor": 5
}
