{
 "cells": [
  {
   "cell_type": "markdown",
   "id": "3d037c57",
   "metadata": {},
   "source": [
    "# Set Comprehension"
   ]
  },
  {
   "cell_type": "code",
   "execution_count": 2,
   "id": "97dbeaae",
   "metadata": {},
   "outputs": [],
   "source": [
    "tags = {'Django', 'Pandas', 'Numpy'}"
   ]
  },
  {
   "cell_type": "code",
   "execution_count": 3,
   "id": "d4a30931",
   "metadata": {},
   "outputs": [
    {
     "name": "stdout",
     "output_type": "stream",
     "text": [
      "{'numpy', 'pandas', 'django'}\n"
     ]
    }
   ],
   "source": [
    "# Sem Set-Comprehension\n",
    "\n",
    "lowercase_tags = set()\n",
    "for tag in tags:\n",
    "    lowercase_tags.add(tag.lower())\n",
    "\n",
    "print(lowercase_tags)"
   ]
  },
  {
   "cell_type": "code",
   "execution_count": 4,
   "id": "f47a90cc",
   "metadata": {},
   "outputs": [
    {
     "name": "stdout",
     "output_type": "stream",
     "text": [
      "{'numpy', 'pandas', 'django'}\n"
     ]
    }
   ],
   "source": [
    "# Com Lambda e Sem Set-Comprehension\n",
    "\n",
    "lowercase_tags = set(map(lambda tag: tag.lower(), tags))\n",
    "\n",
    "print(lowercase_tags)"
   ]
  },
  {
   "cell_type": "code",
   "execution_count": 5,
   "id": "dfa54388",
   "metadata": {},
   "outputs": [
    {
     "name": "stdout",
     "output_type": "stream",
     "text": [
      "{'numpy', 'pandas', 'django'}\n"
     ]
    }
   ],
   "source": [
    "# Com Set-Comprehension\n",
    "\n",
    "lowercase_tags = {tag.lower() for tag in tags}\n",
    "\n",
    "print(lowercase_tags)"
   ]
  },
  {
   "cell_type": "code",
   "execution_count": 6,
   "id": "3e98cf67",
   "metadata": {},
   "outputs": [
    {
     "name": "stdout",
     "output_type": "stream",
     "text": [
      "{'pandas', 'django'}\n"
     ]
    }
   ],
   "source": [
    "# Set-Comprehension com filtro\n",
    "\n",
    "new_tags = {tag.lower() for tag in tags if tag != 'Numpy'}\n",
    "\n",
    "print(new_tags)"
   ]
  },
  {
   "cell_type": "markdown",
   "id": "2cde16c2",
   "metadata": {},
   "source": [
    "# Set Union"
   ]
  },
  {
   "cell_type": "code",
   "execution_count": 10,
   "id": "154f0258",
   "metadata": {},
   "outputs": [
    {
     "name": "stdout",
     "output_type": "stream",
     "text": [
      "{'Python', 'C#', 'Java'}\n"
     ]
    }
   ],
   "source": [
    "s1 = {'Python', 'Java'}\n",
    "s2 = {'C#', 'Java'}\n",
    "\n",
    "s = s1.union(s2)\n",
    "\n",
    "print(s)\n"
   ]
  },
  {
   "cell_type": "code",
   "execution_count": 11,
   "id": "628580c5",
   "metadata": {},
   "outputs": [
    {
     "name": "stdout",
     "output_type": "stream",
     "text": [
      "{'Python', 'C#', 'Java'}\n"
     ]
    }
   ],
   "source": [
    "s1 = {'Python', 'Java'}\n",
    "s2 = {'C#', 'Java'}\n",
    "\n",
    "s = s1 | s2\n",
    "\n",
    "print(s)"
   ]
  },
  {
   "cell_type": "code",
   "execution_count": 9,
   "id": "d9fa10b0",
   "metadata": {},
   "outputs": [
    {
     "name": "stdout",
     "output_type": "stream",
     "text": [
      "{1, 2, 3, 4}\n"
     ]
    }
   ],
   "source": [
    "# In fact, the union() method accepts one or more iterables, converts the iterables to sets, and performs the union.\n",
    "\n",
    "rates = {1, 2, 3}\n",
    "ranks = [2, 3, 4]\n",
    "\n",
    "ratings = rates.union(ranks)\n",
    "\n",
    "print(ratings)"
   ]
  },
  {
   "cell_type": "code",
   "execution_count": 12,
   "id": "59e0e03a",
   "metadata": {},
   "outputs": [
    {
     "ename": "TypeError",
     "evalue": "unsupported operand type(s) for |: 'set' and 'list'",
     "output_type": "error",
     "traceback": [
      "\u001b[0;31m---------------------------------------------------------------------------\u001b[0m",
      "\u001b[0;31mTypeError\u001b[0m                                 Traceback (most recent call last)",
      "\u001b[0;32m/var/folders/7t/l0db25bn04j0mmkky4r0y59h0000gn/T/ipykernel_89482/3380960433.py\u001b[0m in \u001b[0;36m<module>\u001b[0;34m\u001b[0m\n\u001b[1;32m      4\u001b[0m \u001b[0mranks\u001b[0m \u001b[0;34m=\u001b[0m \u001b[0;34m[\u001b[0m\u001b[0;36m2\u001b[0m\u001b[0;34m,\u001b[0m \u001b[0;36m3\u001b[0m\u001b[0;34m,\u001b[0m \u001b[0;36m4\u001b[0m\u001b[0;34m]\u001b[0m\u001b[0;34m\u001b[0m\u001b[0;34m\u001b[0m\u001b[0m\n\u001b[1;32m      5\u001b[0m \u001b[0;34m\u001b[0m\u001b[0m\n\u001b[0;32m----> 6\u001b[0;31m \u001b[0mratings\u001b[0m \u001b[0;34m=\u001b[0m \u001b[0mrates\u001b[0m \u001b[0;34m|\u001b[0m \u001b[0mranks\u001b[0m\u001b[0;34m\u001b[0m\u001b[0;34m\u001b[0m\u001b[0m\n\u001b[0m",
      "\u001b[0;31mTypeError\u001b[0m: unsupported operand type(s) for |: 'set' and 'list'"
     ]
    }
   ],
   "source": [
    "# However, the union operator (|) only allows sets, not iterables like the union() method.\n",
    "\n",
    "rates = {1, 2, 3}\n",
    "ranks = [2, 3, 4]\n",
    "\n",
    "ratings = rates | ranks"
   ]
  },
  {
   "cell_type": "markdown",
   "id": "c48dd68c",
   "metadata": {},
   "source": [
    "# Intersection"
   ]
  },
  {
   "cell_type": "code",
   "execution_count": 14,
   "id": "3875b9f5",
   "metadata": {},
   "outputs": [
    {
     "name": "stdout",
     "output_type": "stream",
     "text": [
      "{'C++', 'Java'}\n"
     ]
    }
   ],
   "source": [
    "s1 = {'Python', 'Java', 'C++'}\n",
    "s2 = {'C#', 'Java', 'C++'}\n",
    "\n",
    "s = s1.intersection(s2)\n",
    "\n",
    "print(s)\n"
   ]
  },
  {
   "cell_type": "code",
   "execution_count": 15,
   "id": "cc11006d",
   "metadata": {},
   "outputs": [
    {
     "name": "stdout",
     "output_type": "stream",
     "text": [
      "{'C++', 'Java'}\n"
     ]
    }
   ],
   "source": [
    "s1 = {'Python', 'Java', 'C++'}\n",
    "s2 = {'C#', 'Java', 'C++'}\n",
    "\n",
    "s = s1 & s2\n",
    "\n",
    "print(s)"
   ]
  },
  {
   "cell_type": "code",
   "execution_count": 16,
   "id": "343fd7ee",
   "metadata": {},
   "outputs": [
    {
     "name": "stdout",
     "output_type": "stream",
     "text": [
      "{2, 3}\n"
     ]
    }
   ],
   "source": [
    "# The following example uses the intersection() method to intersect a set with a list:\n",
    "numbers = {1, 2, 3}\n",
    "scores = [2, 3, 4]\n",
    "\n",
    "numbers = numbers.intersection(scores)\n",
    "\n",
    "print(numbers)"
   ]
  },
  {
   "cell_type": "code",
   "execution_count": 17,
   "id": "8928e89d",
   "metadata": {},
   "outputs": [
    {
     "ename": "TypeError",
     "evalue": "unsupported operand type(s) for &: 'set' and 'list'",
     "output_type": "error",
     "traceback": [
      "\u001b[0;31m---------------------------------------------------------------------------\u001b[0m",
      "\u001b[0;31mTypeError\u001b[0m                                 Traceback (most recent call last)",
      "\u001b[0;32m/var/folders/7t/l0db25bn04j0mmkky4r0y59h0000gn/T/ipykernel_89482/2394561949.py\u001b[0m in \u001b[0;36m<module>\u001b[0;34m\u001b[0m\n\u001b[1;32m      3\u001b[0m \u001b[0mscores\u001b[0m \u001b[0;34m=\u001b[0m \u001b[0;34m[\u001b[0m\u001b[0;36m2\u001b[0m\u001b[0;34m,\u001b[0m \u001b[0;36m3\u001b[0m\u001b[0;34m,\u001b[0m \u001b[0;36m4\u001b[0m\u001b[0;34m]\u001b[0m\u001b[0;34m\u001b[0m\u001b[0;34m\u001b[0m\u001b[0m\n\u001b[1;32m      4\u001b[0m \u001b[0;34m\u001b[0m\u001b[0m\n\u001b[0;32m----> 5\u001b[0;31m \u001b[0mnumbers\u001b[0m \u001b[0;34m=\u001b[0m \u001b[0mnumbers\u001b[0m \u001b[0;34m&\u001b[0m \u001b[0mscores\u001b[0m\u001b[0;34m\u001b[0m\u001b[0;34m\u001b[0m\u001b[0m\n\u001b[0m\u001b[1;32m      6\u001b[0m \u001b[0;34m\u001b[0m\u001b[0m\n\u001b[1;32m      7\u001b[0m \u001b[0mprint\u001b[0m\u001b[0;34m(\u001b[0m\u001b[0mnumbers\u001b[0m\u001b[0;34m)\u001b[0m\u001b[0;34m\u001b[0m\u001b[0;34m\u001b[0m\u001b[0m\n",
      "\u001b[0;31mTypeError\u001b[0m: unsupported operand type(s) for &: 'set' and 'list'"
     ]
    }
   ],
   "source": [
    "# If you use the set intersection operator (&) instead, you’ll get an error:\n",
    "numbers = {1, 2, 3}\n",
    "scores = [2, 3, 4]\n",
    "\n",
    "numbers = numbers & scores\n",
    "\n",
    "print(numbers)"
   ]
  },
  {
   "cell_type": "markdown",
   "id": "330e3933",
   "metadata": {},
   "source": [
    "# Set Difference"
   ]
  },
  {
   "cell_type": "code",
   "execution_count": 18,
   "id": "5f344ada",
   "metadata": {},
   "outputs": [
    {
     "name": "stdout",
     "output_type": "stream",
     "text": [
      "{'Python'}\n"
     ]
    }
   ],
   "source": [
    "s1 = {'Python', 'Java', 'C++'}\n",
    "s2 = {'C#', 'Java', 'C++'}\n",
    "s = s1.difference(s2)\n",
    "\n",
    "print(s)"
   ]
  },
  {
   "cell_type": "code",
   "execution_count": 19,
   "id": "d588d0ee",
   "metadata": {},
   "outputs": [
    {
     "name": "stdout",
     "output_type": "stream",
     "text": [
      "{'C#'}\n"
     ]
    }
   ],
   "source": [
    "s1 = {'Python', 'Java', 'C++'}\n",
    "s2 = {'C#', 'Java', 'C++'}\n",
    "s = s2.difference(s1)\n",
    "\n",
    "print(s)"
   ]
  },
  {
   "cell_type": "code",
   "execution_count": 20,
   "id": "e8c80782",
   "metadata": {},
   "outputs": [
    {
     "name": "stdout",
     "output_type": "stream",
     "text": [
      "{'Python'}\n"
     ]
    }
   ],
   "source": [
    "s1 = {'Python', 'Java', 'C++'}\n",
    "s2 = {'C#', 'Java', 'C++'}\n",
    "s = s1 - s2\n",
    "\n",
    "print(s)"
   ]
  },
  {
   "cell_type": "code",
   "execution_count": 21,
   "id": "9dc3a987",
   "metadata": {},
   "outputs": [
    {
     "name": "stdout",
     "output_type": "stream",
     "text": [
      "{'C#'}\n"
     ]
    }
   ],
   "source": [
    "s1 = {'Python', 'Java', 'C++'}\n",
    "s2 = {'C#', 'Java', 'C++'}\n",
    "s = s2 - s1\n",
    "\n",
    "print(s)\n"
   ]
  },
  {
   "cell_type": "code",
   "execution_count": 22,
   "id": "a2e36c8c",
   "metadata": {},
   "outputs": [
    {
     "name": "stdout",
     "output_type": "stream",
     "text": [
      "{8, 7}\n"
     ]
    }
   ],
   "source": [
    "# The following shows how to use the set difference() method with a list:\n",
    "scores = {7, 8, 9}\n",
    "numbers = [9, 10]\n",
    "new_scores = scores.difference(numbers)\n",
    "\n",
    "print(new_scores)\n"
   ]
  },
  {
   "cell_type": "code",
   "execution_count": 23,
   "id": "02942447",
   "metadata": {},
   "outputs": [
    {
     "ename": "TypeError",
     "evalue": "unsupported operand type(s) for -: 'set' and 'list'",
     "output_type": "error",
     "traceback": [
      "\u001b[0;31m---------------------------------------------------------------------------\u001b[0m",
      "\u001b[0;31mTypeError\u001b[0m                                 Traceback (most recent call last)",
      "\u001b[0;32m/var/folders/7t/l0db25bn04j0mmkky4r0y59h0000gn/T/ipykernel_89482/3196100601.py\u001b[0m in \u001b[0;36m<module>\u001b[0;34m\u001b[0m\n\u001b[1;32m      2\u001b[0m \u001b[0mscores\u001b[0m \u001b[0;34m=\u001b[0m \u001b[0;34m{\u001b[0m\u001b[0;36m7\u001b[0m\u001b[0;34m,\u001b[0m \u001b[0;36m8\u001b[0m\u001b[0;34m,\u001b[0m \u001b[0;36m9\u001b[0m\u001b[0;34m}\u001b[0m\u001b[0;34m\u001b[0m\u001b[0;34m\u001b[0m\u001b[0m\n\u001b[1;32m      3\u001b[0m \u001b[0mnumbers\u001b[0m \u001b[0;34m=\u001b[0m \u001b[0;34m[\u001b[0m\u001b[0;36m9\u001b[0m\u001b[0;34m,\u001b[0m \u001b[0;36m10\u001b[0m\u001b[0;34m]\u001b[0m\u001b[0;34m\u001b[0m\u001b[0;34m\u001b[0m\u001b[0m\n\u001b[0;32m----> 4\u001b[0;31m \u001b[0mnew_scores\u001b[0m \u001b[0;34m=\u001b[0m \u001b[0mscores\u001b[0m \u001b[0;34m-\u001b[0m \u001b[0mnumbers\u001b[0m\u001b[0;34m\u001b[0m\u001b[0;34m\u001b[0m\u001b[0m\n\u001b[0m\u001b[1;32m      5\u001b[0m \u001b[0;34m\u001b[0m\u001b[0m\n\u001b[1;32m      6\u001b[0m \u001b[0mprint\u001b[0m\u001b[0;34m(\u001b[0m\u001b[0mnew_scores\u001b[0m\u001b[0;34m)\u001b[0m\u001b[0;34m\u001b[0m\u001b[0;34m\u001b[0m\u001b[0m\n",
      "\u001b[0;31mTypeError\u001b[0m: unsupported operand type(s) for -: 'set' and 'list'"
     ]
    }
   ],
   "source": [
    "# However, if you use the set difference operator (-) with iterables, you’ll get an error:\n",
    "scores = {7, 8, 9}\n",
    "numbers = [9, 10]\n",
    "new_scores = scores - numbers\n",
    "\n",
    "print(new_scores)\n"
   ]
  },
  {
   "cell_type": "markdown",
   "id": "7ac6a896",
   "metadata": {},
   "source": [
    "# Set Symmetric Difference"
   ]
  },
  {
   "cell_type": "code",
   "execution_count": 24,
   "id": "f2e9992b",
   "metadata": {},
   "outputs": [
    {
     "name": "stdout",
     "output_type": "stream",
     "text": [
      "{'Python', 'C#'}\n"
     ]
    }
   ],
   "source": [
    "s1 = {'Python', 'Java', 'C++'}\n",
    "s2 = {'C#', 'Java', 'C++'}\n",
    "\n",
    "s = s1.symmetric_difference(s2)\n",
    "\n",
    "print(s)\n"
   ]
  },
  {
   "cell_type": "code",
   "execution_count": 25,
   "id": "2714f69d",
   "metadata": {},
   "outputs": [
    {
     "name": "stdout",
     "output_type": "stream",
     "text": [
      "{'Python', 'C#'}\n"
     ]
    }
   ],
   "source": [
    "s1 = {'Python', 'Java', 'C++'}\n",
    "s2 = {'C#', 'Java', 'C++'}\n",
    "\n",
    "s = s1 ^ s2\n",
    "\n",
    "print(s)"
   ]
  },
  {
   "cell_type": "code",
   "execution_count": 27,
   "id": "2aa84cbe",
   "metadata": {},
   "outputs": [
    {
     "name": "stdout",
     "output_type": "stream",
     "text": [
      "{10, 7}\n"
     ]
    }
   ],
   "source": [
    "# The following example shows how to use the symmetric_difference() method to find the symmetric difference between a set and a list:\n",
    "scores = {7, 8, 9}\n",
    "ratings = [8, 9, 10]\n",
    "new_set = scores.symmetric_difference(ratings)\n",
    "\n",
    "print(new_set)"
   ]
  },
  {
   "cell_type": "code",
   "execution_count": 28,
   "id": "0b8bacd1",
   "metadata": {},
   "outputs": [
    {
     "ename": "TypeError",
     "evalue": "unsupported operand type(s) for ^: 'set' and 'list'",
     "output_type": "error",
     "traceback": [
      "\u001b[0;31m---------------------------------------------------------------------------\u001b[0m",
      "\u001b[0;31mTypeError\u001b[0m                                 Traceback (most recent call last)",
      "\u001b[0;32m/var/folders/7t/l0db25bn04j0mmkky4r0y59h0000gn/T/ipykernel_89482/884838376.py\u001b[0m in \u001b[0;36m<module>\u001b[0;34m\u001b[0m\n\u001b[1;32m      2\u001b[0m \u001b[0mscores\u001b[0m \u001b[0;34m=\u001b[0m \u001b[0;34m{\u001b[0m\u001b[0;36m7\u001b[0m\u001b[0;34m,\u001b[0m \u001b[0;36m8\u001b[0m\u001b[0;34m,\u001b[0m \u001b[0;36m9\u001b[0m\u001b[0;34m}\u001b[0m\u001b[0;34m\u001b[0m\u001b[0;34m\u001b[0m\u001b[0m\n\u001b[1;32m      3\u001b[0m \u001b[0mratings\u001b[0m \u001b[0;34m=\u001b[0m \u001b[0;34m[\u001b[0m\u001b[0;36m8\u001b[0m\u001b[0;34m,\u001b[0m \u001b[0;36m9\u001b[0m\u001b[0;34m,\u001b[0m \u001b[0;36m10\u001b[0m\u001b[0;34m]\u001b[0m\u001b[0;34m\u001b[0m\u001b[0;34m\u001b[0m\u001b[0m\n\u001b[0;32m----> 4\u001b[0;31m \u001b[0mnew_set\u001b[0m \u001b[0;34m=\u001b[0m \u001b[0mscores\u001b[0m \u001b[0;34m^\u001b[0m \u001b[0mratings\u001b[0m\u001b[0;34m\u001b[0m\u001b[0;34m\u001b[0m\u001b[0m\n\u001b[0m\u001b[1;32m      5\u001b[0m \u001b[0;34m\u001b[0m\u001b[0m\n\u001b[1;32m      6\u001b[0m \u001b[0mprint\u001b[0m\u001b[0;34m(\u001b[0m\u001b[0mnew_set\u001b[0m\u001b[0;34m)\u001b[0m\u001b[0;34m\u001b[0m\u001b[0;34m\u001b[0m\u001b[0m\n",
      "\u001b[0;31mTypeError\u001b[0m: unsupported operand type(s) for ^: 'set' and 'list'"
     ]
    }
   ],
   "source": [
    "# However, the symmetric difference operator (^) only applies to sets. If you use it with the iterables which aren’t sets, you’ll get an error. For example:\n",
    "scores = {7, 8, 9}\n",
    "ratings = [8, 9, 10]\n",
    "new_set = scores ^ ratings\n",
    "\n",
    "print(new_set)"
   ]
  },
  {
   "cell_type": "code",
   "execution_count": null,
   "id": "593da26b",
   "metadata": {},
   "outputs": [],
   "source": []
  }
 ],
 "metadata": {
  "kernelspec": {
   "display_name": "Python 3 (ipykernel)",
   "language": "python",
   "name": "python3"
  },
  "language_info": {
   "codemirror_mode": {
    "name": "ipython",
    "version": 3
   },
   "file_extension": ".py",
   "mimetype": "text/x-python",
   "name": "python",
   "nbconvert_exporter": "python",
   "pygments_lexer": "ipython3",
   "version": "3.9.7"
  }
 },
 "nbformat": 4,
 "nbformat_minor": 5
}
