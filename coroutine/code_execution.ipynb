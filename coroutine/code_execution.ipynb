{
 "cells": [
  {
   "cell_type": "code",
   "execution_count": 1,
   "id": "51d3a9f3",
   "metadata": {},
   "outputs": [
    {
     "name": "stdout",
     "output_type": "stream",
     "text": [
      "Collecting asyncio\n",
      "  Downloading asyncio-3.4.3-py3-none-any.whl (101 kB)\n",
      "\u001b[K     |████████████████████████████████| 101 kB 4.8 MB/s ta 0:00:011\n",
      "\u001b[?25hInstalling collected packages: asyncio\n",
      "Successfully installed asyncio-3.4.3\n"
     ]
    }
   ],
   "source": [
    "!pip install asyncio"
   ]
  },
  {
   "cell_type": "code",
   "execution_count": 2,
   "id": "584e688c",
   "metadata": {},
   "outputs": [
    {
     "name": "stdout",
     "output_type": "stream",
     "text": [
      "<function square at 0x7fab5ff484c0>\n"
     ]
    }
   ],
   "source": [
    "# Ocorre erro pois é retornado uma coroutine que nunca é aguardada\n",
    "\n",
    "async def square(number: int) -> int:\n",
    "    return number*number\n",
    "\n",
    "\n",
    "result = square(10)\n",
    "print(square)"
   ]
  },
  {
   "cell_type": "code",
   "execution_count": 14,
   "id": "3cdb135b",
   "metadata": {},
   "outputs": [
    {
     "name": "stdout",
     "output_type": "stream",
     "text": [
      "100\n"
     ]
    }
   ],
   "source": [
    "# Essa versão a função é enviada para um loop no método asyncio.run e é aguardado o retorno para prosseguir\n",
    "import asyncio\n",
    "\n",
    "async def square(number: int) -> int:\n",
    "    return number*number\n",
    "\n",
    "# Esse código não vai funcionar dentro do Jupyter\n",
    "#result = asyncio.run(square(10))\n",
    "\n",
    "# Esse vai\n",
    "result = await square(10)\n",
    "\n",
    "print(result)"
   ]
  },
  {
   "cell_type": "code",
   "execution_count": 15,
   "id": "b9afeb45",
   "metadata": {},
   "outputs": [
    {
     "name": "stdout",
     "output_type": "stream",
     "text": [
      "x=100\n",
      "y=25\n",
      "total=125\n"
     ]
    }
   ],
   "source": [
    "import asyncio\n",
    "\n",
    "async def square(number: int) -> int:\n",
    "    return number*number\n",
    "\n",
    "async def main() -> None:\n",
    "    x = await square(10)\n",
    "    print(f'x={x}')\n",
    "\n",
    "    y = await square(5)\n",
    "    print(f'y={y}')\n",
    "\n",
    "    print(f'total={x+y}')\n",
    "    \n",
    "# Esse código não vai funcionar dentro do Jupyter\n",
    "# asyncio.run(main())\n",
    "\n",
    "# Esse vai\n",
    "await main()"
   ]
  },
  {
   "cell_type": "code",
   "execution_count": 17,
   "id": "f792f7c1",
   "metadata": {},
   "outputs": [
    {
     "name": "stdout",
     "output_type": "stream",
     "text": [
      "Get stock price of GOOG...\n",
      "300\n",
      "Get stock price of APPL...\n",
      "400\n",
      "It took 6.0 second(s) to complete.\n"
     ]
    }
   ],
   "source": [
    "# usando asyncio.sleep\n",
    "import asyncio\n",
    "import time\n",
    "\n",
    "\n",
    "async def call_api(message, result=1000, delay=3):\n",
    "    print(message)\n",
    "    await asyncio.sleep(delay)\n",
    "    return result\n",
    "\n",
    "\n",
    "async def main():\n",
    "    start = time.perf_counter()\n",
    "\n",
    "    price = await call_api('Get stock price of GOOG...', 300)\n",
    "    print(price)\n",
    "\n",
    "    price = await call_api('Get stock price of APPL...', 400)\n",
    "    print(price)\n",
    "\n",
    "    end = time.perf_counter()\n",
    "    print(f'It took {round(end-start,0)} second(s) to complete.')\n",
    "\n",
    "# Esse código não vai funcionar dentro do Jupyter\n",
    "# asyncio.run(main())\n",
    "\n",
    "# Esse vai\n",
    "await main()"
   ]
  },
  {
   "cell_type": "code",
   "execution_count": 18,
   "id": "c57bbd72",
   "metadata": {},
   "outputs": [
    {
     "name": "stdout",
     "output_type": "stream",
     "text": [
      "Get stock price of GOOG...\n",
      "Get stock price of APPL...\n",
      "300\n",
      "300\n",
      "It took 3.0 second(s) to complete.\n"
     ]
    }
   ],
   "source": [
    "# usando asyncio.create_task\n",
    "import asyncio\n",
    "import time\n",
    "\n",
    "\n",
    "async def call_api(message, result=1000, delay=3):\n",
    "    print(message)\n",
    "    await asyncio.sleep(delay)\n",
    "    return result\n",
    "\n",
    "\n",
    "async def main():\n",
    "    start = time.perf_counter()\n",
    "\n",
    "    task_1 = asyncio.create_task(\n",
    "        call_api('Get stock price of GOOG...', 300)\n",
    "    )\n",
    "\n",
    "    task_2 = asyncio.create_task(\n",
    "        call_api('Get stock price of APPL...', 300)\n",
    "    )\n",
    "\n",
    "    price = await task_1\n",
    "    print(price)\n",
    "\n",
    "    price = await task_2\n",
    "    print(price)\n",
    "\n",
    "    end = time.perf_counter()\n",
    "    print(f'It took {round(end-start,0)} second(s) to complete.')\n",
    "\n",
    "\n",
    "# Esse código não vai funcionar dentro do Jupyter\n",
    "# asyncio.run(main())\n",
    "\n",
    "# Esse vai\n",
    "await main()"
   ]
  },
  {
   "cell_type": "code",
   "execution_count": 19,
   "id": "a72ed7a8",
   "metadata": {},
   "outputs": [
    {
     "name": "stdout",
     "output_type": "stream",
     "text": [
      "Get stock price of GOOG...\n",
      "Get stock price of APPL...\n",
      "API call is in progress...\n",
      "API call is in progress...\n",
      "300\n",
      "300\n",
      "API call is in progress...\n",
      "It took 3.0 second(s) to complete.\n"
     ]
    }
   ],
   "source": [
    "import asyncio\n",
    "import time\n",
    "\n",
    "\n",
    "async def call_api(message, result=1000, delay=3):\n",
    "    print(message)\n",
    "    await asyncio.sleep(delay)\n",
    "    return result\n",
    "\n",
    "\n",
    "async def show_message():\n",
    "    for _ in range(3):\n",
    "        await asyncio.sleep(1)\n",
    "        print('API call is in progress...')\n",
    "\n",
    "\n",
    "async def main():\n",
    "    start = time.perf_counter()\n",
    "\n",
    "    message_task = asyncio.create_task(\n",
    "        show_message()\n",
    "    )\n",
    "\n",
    "    task_1 = asyncio.create_task(\n",
    "        call_api('Get stock price of GOOG...', 300)\n",
    "    )\n",
    "\n",
    "    task_2 = asyncio.create_task(\n",
    "        call_api('Get stock price of APPL...', 300)\n",
    "    )\n",
    "\n",
    "    price = await task_1\n",
    "    print(price)\n",
    "\n",
    "    price = await task_2\n",
    "    print(price)\n",
    "\n",
    "    await message_task\n",
    "\n",
    "    end = time.perf_counter()\n",
    "    print(f'It took {round(end-start,0)} second(s) to complete.')\n",
    "\n",
    "\n",
    "# Esse código não vai funcionar dentro do Jupyter\n",
    "# asyncio.run(main())\n",
    "\n",
    "# Esse vai\n",
    "await main()"
   ]
  },
  {
   "cell_type": "code",
   "execution_count": 26,
   "id": "fb85d948",
   "metadata": {},
   "outputs": [
    {
     "name": "stdout",
     "output_type": "stream",
     "text": [
      "Calling API...\n",
      "Task has not completed, checking again in a second\n",
      "Task has not completed, checking again in a second\n",
      "Task has not completed, checking again in a second\n",
      "Cancelling the task...\n",
      "Task has been cancelled.\n"
     ]
    }
   ],
   "source": [
    "# USANDO cancel PARA CANCELAR UMA TASK\n",
    "import asyncio\n",
    "from asyncio import CancelledError\n",
    "\n",
    "\n",
    "async def call_api(message, result=1000, delay=3):\n",
    "    print(message)\n",
    "    await asyncio.sleep(delay)\n",
    "    return result\n",
    "\n",
    "\n",
    "async def main():\n",
    "    task = asyncio.create_task(\n",
    "        call_api('Calling API...', result=2000, delay=5)\n",
    "    )\n",
    "\n",
    "    time_elapsed = 0\n",
    "    while not task.done():\n",
    "        time_elapsed += 1\n",
    "        await asyncio.sleep(1)\n",
    "        print('Task has not completed, checking again in a second')\n",
    "        if time_elapsed == 3:\n",
    "            print('Cancelling the task...')\n",
    "            task.cancel()\n",
    "            break\n",
    "\n",
    "    try:\n",
    "        print(await task)\n",
    "    except CancelledError:\n",
    "        print('Task has been cancelled.')\n",
    "\n",
    "\n",
    "# Esse código não vai funcionar dentro do Jupyter\n",
    "# asyncio.run(main())\n",
    "\n",
    "# Esse vai\n",
    "await main()"
   ]
  },
  {
   "cell_type": "code",
   "execution_count": 30,
   "id": "bb7cb0f4",
   "metadata": {},
   "outputs": [
    {
     "name": "stdout",
     "output_type": "stream",
     "text": [
      "Calling API...\n",
      "The task was cancelled due to a timeout\n"
     ]
    }
   ],
   "source": [
    "# USANDO wait_for PARA CANCELAR UMA TASK APOS TIMEOUT\n",
    "import asyncio\n",
    "from asyncio.exceptions import TimeoutError\n",
    "\n",
    "\n",
    "async def call_api(message, result=1000, delay=3):\n",
    "    print(message)\n",
    "    await asyncio.sleep(delay)\n",
    "    return result\n",
    "\n",
    "\n",
    "async def main():\n",
    "    task = asyncio.create_task(\n",
    "        call_api('Calling API...', result=2000, delay=5)\n",
    "    )\n",
    "\n",
    "    MAX_TIMEOUT = 3\n",
    "    try:\n",
    "        print(await asyncio.wait_for(task, timeout=MAX_TIMEOUT))\n",
    "    except TimeoutError:\n",
    "        print('The task was cancelled due to a timeout')\n",
    "\n",
    "# Esse código não vai funcionar dentro do Jupyter\n",
    "# asyncio.run(main())\n",
    "\n",
    "# Esse vai\n",
    "await main()"
   ]
  },
  {
   "cell_type": "code",
   "execution_count": 32,
   "id": "e574fe94",
   "metadata": {},
   "outputs": [
    {
     "name": "stdout",
     "output_type": "stream",
     "text": [
      "Calling API...\n",
      "The task took more than expected and will complete soon.\n",
      "2000\n"
     ]
    }
   ],
   "source": [
    "# USANDO shield PARA EVITAR O CANCELAMENTO E AVISAR SOBRE A DEMORA DA EXECUCAO\n",
    "import asyncio\n",
    "from asyncio.exceptions import TimeoutError\n",
    "\n",
    "\n",
    "async def call_api(message, result=1000, delay=3):\n",
    "    print(message)\n",
    "    await asyncio.sleep(delay)\n",
    "    return result\n",
    "\n",
    "\n",
    "async def main():\n",
    "    task = asyncio.create_task(\n",
    "        call_api('Calling API...', result=2000, delay=5)\n",
    "    )\n",
    "\n",
    "    MAX_TIMEOUT = 3\n",
    "    try:\n",
    "        print(await asyncio.wait_for(asyncio.shield(task), timeout=MAX_TIMEOUT))\n",
    "    except TimeoutError:\n",
    "        print('The task took more than expected and will complete soon.')\n",
    "        result = await task\n",
    "        print(result)\n",
    "\n",
    "# Esse código não vai funcionar dentro do Jupyter\n",
    "# asyncio.run(main())\n",
    "\n",
    "# Esse vai\n",
    "await main()\n"
   ]
  },
  {
   "cell_type": "code",
   "execution_count": null,
   "id": "ae97bea0",
   "metadata": {},
   "outputs": [],
   "source": []
  }
 ],
 "metadata": {
  "kernelspec": {
   "display_name": "Python 3 (ipykernel)",
   "language": "python",
   "name": "python3"
  },
  "language_info": {
   "codemirror_mode": {
    "name": "ipython",
    "version": 3
   },
   "file_extension": ".py",
   "mimetype": "text/x-python",
   "name": "python",
   "nbconvert_exporter": "python",
   "pygments_lexer": "ipython3",
   "version": "3.9.7"
  }
 },
 "nbformat": 4,
 "nbformat_minor": 5
}
