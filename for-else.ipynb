{
 "cells": [
  {
   "cell_type": "code",
   "execution_count": 3,
   "id": "af9fe8f7",
   "metadata": {},
   "outputs": [
    {
     "name": "stdout",
     "output_type": "stream",
     "text": [
      "Enter a name:Pedro\n",
      "Pedro not found!\n"
     ]
    }
   ],
   "source": [
    "# Sem for-else\n",
    "people = [{'name': 'John', 'age': 25},\n",
    "        {'name': 'Jane', 'age': 22},\n",
    "        {'name': 'Peter', 'age': 30},\n",
    "        {'name': 'Jenifer', 'age': 28}]\n",
    "\n",
    "name = input('Enter a name:')\n",
    "\n",
    "found = False\n",
    "for person in people:\n",
    "    if person['name'] == name:\n",
    "        found = True\n",
    "        print(person)\n",
    "        break\n",
    "\n",
    "if not found:\n",
    "    print(f'{name} not found!')\n"
   ]
  },
  {
   "cell_type": "code",
   "execution_count": 2,
   "id": "11386862",
   "metadata": {},
   "outputs": [
    {
     "name": "stdout",
     "output_type": "stream",
     "text": [
      "Enter a name:John\n",
      "{'name': 'John', 'age': 25}\n"
     ]
    }
   ],
   "source": [
    "# Com for-else\n",
    "people = [{'name': 'John', 'age': 25},\n",
    "        {'name': 'Jane', 'age': 22},\n",
    "        {'name': 'Peter', 'age': 30},\n",
    "        {'name': 'Jenifer', 'age': 28}]\n",
    "\n",
    "name = input('Enter a name:')\n",
    "\n",
    "for person in people:\n",
    "    if person['name'] == name:\n",
    "        print(person)\n",
    "        break\n",
    "else:\n",
    "    print(f'{name} not found!')"
   ]
  },
  {
   "cell_type": "code",
   "execution_count": null,
   "id": "eb369962",
   "metadata": {},
   "outputs": [],
   "source": []
  }
 ],
 "metadata": {
  "kernelspec": {
   "display_name": "Python 3 (ipykernel)",
   "language": "python",
   "name": "python3"
  },
  "language_info": {
   "codemirror_mode": {
    "name": "ipython",
    "version": 3
   },
   "file_extension": ".py",
   "mimetype": "text/x-python",
   "name": "python",
   "nbconvert_exporter": "python",
   "pygments_lexer": "ipython3",
   "version": "3.9.7"
  }
 },
 "nbformat": 4,
 "nbformat_minor": 5
}
