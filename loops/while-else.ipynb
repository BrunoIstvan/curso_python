{
 "cells": [
  {
   "cell_type": "code",
   "execution_count": 2,
   "id": "c42fa771",
   "metadata": {},
   "outputs": [
    {
     "name": "stdout",
     "output_type": "stream",
     "text": [
      "Enter a fruit:apple\n",
      "The basket has 20 apple(s)\n"
     ]
    }
   ],
   "source": [
    "basket = [\n",
    "    {'fruit': 'apple', 'qty': 20},\n",
    "    {'fruit': 'banana', 'qty': 30},\n",
    "    {'fruit': 'orange', 'qty': 10}\n",
    "]\n",
    "\n",
    "fruit = input('Enter a fruit:')\n",
    "\n",
    "index = 0\n",
    "found_it = False\n",
    "\n",
    "while index < len(basket):\n",
    "    item = basket[index]\n",
    "    # check the fruit name\n",
    "    if item['fruit'] == fruit:\n",
    "        found_it = True\n",
    "        print(f\"The basket has {item['qty']} {item['fruit']}(s)\")\n",
    "        break\n",
    "\n",
    "    index += 1\n",
    "\n",
    "if not found_it:\n",
    "    qty = int(input(f'Enter the qty for {fruit}:'))\n",
    "    basket.append({'fruit': fruit, 'qty': qty})\n",
    "    print(basket)"
   ]
  },
  {
   "cell_type": "code",
   "execution_count": 4,
   "id": "67a7bbc7",
   "metadata": {},
   "outputs": [
    {
     "name": "stdout",
     "output_type": "stream",
     "text": [
      "Enter a fruit:pear\n",
      "Enter the qty for pear:4e0\n"
     ]
    },
    {
     "ename": "ValueError",
     "evalue": "invalid literal for int() with base 10: '4e0'",
     "output_type": "error",
     "traceback": [
      "\u001b[0;31m---------------------------------------------------------------------------\u001b[0m",
      "\u001b[0;31mValueError\u001b[0m                                Traceback (most recent call last)",
      "\u001b[0;32m/var/folders/7t/l0db25bn04j0mmkky4r0y59h0000gn/T/ipykernel_5593/3998289371.py\u001b[0m in \u001b[0;36m<module>\u001b[0;34m\u001b[0m\n\u001b[1;32m     18\u001b[0m     \u001b[0mindex\u001b[0m \u001b[0;34m+=\u001b[0m \u001b[0;36m1\u001b[0m\u001b[0;34m\u001b[0m\u001b[0;34m\u001b[0m\u001b[0m\n\u001b[1;32m     19\u001b[0m \u001b[0;32melse\u001b[0m\u001b[0;34m:\u001b[0m\u001b[0;34m\u001b[0m\u001b[0;34m\u001b[0m\u001b[0m\n\u001b[0;32m---> 20\u001b[0;31m     \u001b[0mqty\u001b[0m \u001b[0;34m=\u001b[0m \u001b[0mint\u001b[0m\u001b[0;34m(\u001b[0m\u001b[0minput\u001b[0m\u001b[0;34m(\u001b[0m\u001b[0;34mf'Enter the qty for {fruit}:'\u001b[0m\u001b[0;34m)\u001b[0m\u001b[0;34m)\u001b[0m\u001b[0;34m\u001b[0m\u001b[0;34m\u001b[0m\u001b[0m\n\u001b[0m\u001b[1;32m     21\u001b[0m     \u001b[0mbasket\u001b[0m\u001b[0;34m.\u001b[0m\u001b[0mappend\u001b[0m\u001b[0;34m(\u001b[0m\u001b[0;34m{\u001b[0m\u001b[0;34m'fruit'\u001b[0m\u001b[0;34m:\u001b[0m \u001b[0mfruit\u001b[0m\u001b[0;34m,\u001b[0m \u001b[0;34m'qty'\u001b[0m\u001b[0;34m:\u001b[0m \u001b[0mqty\u001b[0m\u001b[0;34m}\u001b[0m\u001b[0;34m)\u001b[0m\u001b[0;34m\u001b[0m\u001b[0;34m\u001b[0m\u001b[0m\n\u001b[1;32m     22\u001b[0m     \u001b[0mprint\u001b[0m\u001b[0;34m(\u001b[0m\u001b[0mbasket\u001b[0m\u001b[0;34m)\u001b[0m\u001b[0;34m\u001b[0m\u001b[0;34m\u001b[0m\u001b[0m\n",
      "\u001b[0;31mValueError\u001b[0m: invalid literal for int() with base 10: '4e0'"
     ]
    }
   ],
   "source": [
    "basket = [\n",
    "    {'fruit': 'apple', 'qty': 20},\n",
    "    {'fruit': 'banana', 'qty': 30},\n",
    "    {'fruit': 'orange', 'qty': 10}\n",
    "]\n",
    "\n",
    "fruit = input('Enter a fruit:')\n",
    "\n",
    "index = 0\n",
    "\n",
    "while index < len(basket):\n",
    "    item = basket[index]\n",
    "    # check the fruit name\n",
    "    if item['fruit'] == fruit:\n",
    "        print(f\"The basket has {item['qty']} {item['fruit']}(s)\")\n",
    "        break\n",
    "\n",
    "    index += 1\n",
    "else:\n",
    "    qty = int(input(f'Enter the qty for {fruit}:'))\n",
    "    basket.append({'fruit': fruit, 'qty': qty})\n",
    "    print(basket)\n"
   ]
  },
  {
   "cell_type": "code",
   "execution_count": null,
   "id": "ed920cce",
   "metadata": {},
   "outputs": [],
   "source": []
  }
 ],
 "metadata": {
  "kernelspec": {
   "display_name": "Python 3 (ipykernel)",
   "language": "python",
   "name": "python3"
  },
  "language_info": {
   "codemirror_mode": {
    "name": "ipython",
    "version": 3
   },
   "file_extension": ".py",
   "mimetype": "text/x-python",
   "name": "python",
   "nbconvert_exporter": "python",
   "pygments_lexer": "ipython3",
   "version": "3.9.7"
  }
 },
 "nbformat": 4,
 "nbformat_minor": 5
}
