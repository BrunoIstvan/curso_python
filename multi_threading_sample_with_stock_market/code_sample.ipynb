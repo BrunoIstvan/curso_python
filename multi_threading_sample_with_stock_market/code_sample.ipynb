{
 "cells": [
  {
   "cell_type": "code",
   "execution_count": null,
   "id": "6a99d642",
   "metadata": {},
   "outputs": [],
   "source": [
    "    "
   ]
  },
  {
   "cell_type": "code",
   "execution_count": 2,
   "id": "b783bbbf",
   "metadata": {},
   "outputs": [
    {
     "name": "stdout",
     "output_type": "stream",
     "text": [
      "MSFT\t282.91\n",
      "GOOGL\t117.47\n",
      "AAPL\t165.35\n",
      "META\t167.11\n"
     ]
    }
   ],
   "source": [
    "import threading\n",
    "import requests\n",
    "from lxml import html\n",
    "\n",
    "\n",
    "class Stock(threading.Thread):\n",
    "    def __init__(self, symbol: str) -> None:\n",
    "        super().__init__()\n",
    "\n",
    "        self.symbol = symbol\n",
    "        self.url = f'https://finance.yahoo.com/quote/{symbol}'\n",
    "        self.price = None\n",
    "\n",
    "    def run(self):\n",
    "        response = requests.get(self.url)\n",
    "        if response.status_code == 200:\n",
    "            # parse the HTML\n",
    "            tree = html.fromstring(response.text)\n",
    "            # get the price in text\n",
    "            price_text = tree.xpath(\n",
    "                '//*[@id=\"quote-header-info\"]/div[3]/div[1]/div[1]/fin-streamer[1]/text()')\n",
    "            if price_text:\n",
    "                try:\n",
    "                    self.price = float(price_text[0].replace(',', ''))\n",
    "                except ValueError:\n",
    "                    self.price = None\n",
    "\n",
    "    def __str__(self):\n",
    "        return f'{self.symbol}\\t{self.price}'\n",
    "\n",
    "    \n",
    "symbols = ['MSFT', 'GOOGL', 'AAPL', 'META']\n",
    "threads = []\n",
    "\n",
    "for symbol in symbols:\n",
    "    t = Stock(symbol)\n",
    "    t.start()\n",
    "    threads.append(t)\n",
    "\n",
    "for t in threads:\n",
    "    t.join()\n",
    "    print(t)    \n",
    "    \n",
    "    "
   ]
  },
  {
   "cell_type": "code",
   "execution_count": null,
   "id": "35b9d87c",
   "metadata": {},
   "outputs": [],
   "source": []
  }
 ],
 "metadata": {
  "kernelspec": {
   "display_name": "Python 3 (ipykernel)",
   "language": "python",
   "name": "python3"
  },
  "language_info": {
   "codemirror_mode": {
    "name": "ipython",
    "version": 3
   },
   "file_extension": ".py",
   "mimetype": "text/x-python",
   "name": "python",
   "nbconvert_exporter": "python",
   "pygments_lexer": "ipython3",
   "version": "3.9.7"
  }
 },
 "nbformat": 4,
 "nbformat_minor": 5
}
