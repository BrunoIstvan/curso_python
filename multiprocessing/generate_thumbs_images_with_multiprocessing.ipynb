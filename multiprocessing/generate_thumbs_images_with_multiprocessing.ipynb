{
 "cells": [
  {
   "cell_type": "code",
   "execution_count": 1,
   "id": "5561ba53",
   "metadata": {},
   "outputs": [
    {
     "name": "stdout",
     "output_type": "stream",
     "text": [
      "Requirement already satisfied: Pillow in /Users/bruno-istvan/opt/anaconda3/lib/python3.9/site-packages (8.4.0)\r\n"
     ]
    }
   ],
   "source": [
    "!pip install Pillow"
   ]
  },
  {
   "cell_type": "code",
   "execution_count": 7,
   "id": "6ccf75b2",
   "metadata": {},
   "outputs": [
    {
     "name": "stdout",
     "output_type": "stream",
     "text": [
      "images/1.jpg was processed...\n",
      "images/2.jpg was processed...\n",
      "images/3.jpg was processed...\n",
      "images/4.jpg was processed...\n",
      "images/5.jpg was processed...\n",
      "It took  2.46 second(s) to finish\n"
     ]
    }
   ],
   "source": [
    "# WITHOUT MULTIPROCESSING\n",
    "import time\n",
    "import os\n",
    "from PIL import Image, ImageFilter\n",
    "\n",
    "filenames = [\n",
    "    'images/1.jpg',\n",
    "    'images/2.jpg',\n",
    "    'images/3.jpg',\n",
    "    'images/4.jpg',\n",
    "    'images/5.jpg',\n",
    "]\n",
    "\n",
    "def create_thumbnail(filename, size=(100,100), thumb_dir ='thumbs'):\n",
    "    img = Image.open(filename)\n",
    "    img = img.filter(ImageFilter.GaussianBlur())\n",
    "    img.thumbnail(size)\n",
    "    img.save(f'{thumb_dir}/{os.path.basename(filename)}')\n",
    "    print(f'{filename} was processed...')\n",
    "\n",
    "\n",
    "if __name__ == '__main__':\n",
    "    start = time.perf_counter()\n",
    "\n",
    "    for filename in filenames:\n",
    "        create_thumbnail(filename)\n",
    "        \n",
    "    finish = time.perf_counter()\n",
    "\n",
    "    print(f'It took {finish-start: .2f} second(s) to finish')"
   ]
  },
  {
   "cell_type": "code",
   "execution_count": 8,
   "id": "3a8b0254",
   "metadata": {},
   "outputs": [
    {
     "name": "stdout",
     "output_type": "stream",
     "text": [
      "images/4.jpg was processed...\n",
      "images/3.jpg was processed...\n",
      "images/2.jpg was processed...\n",
      "images/5.jpg was processed...\n",
      "images/1.jpg was processed...\n",
      "It took  1.66 second(s) to finish\n"
     ]
    }
   ],
   "source": [
    "# WITH MULTIPROCESSING\n",
    "import time\n",
    "import os\n",
    "import multiprocessing\n",
    "from PIL import Image, ImageFilter\n",
    "from task_sample import create_thumbnail\n",
    "\n",
    "filenames = [\n",
    "    'images/1.jpg',\n",
    "    'images/2.jpg',\n",
    "    'images/3.jpg',\n",
    "    'images/4.jpg',\n",
    "    'images/5.jpg',\n",
    "]\n",
    "\n",
    "if __name__ == '__main__':\n",
    "    start = time.perf_counter()\n",
    "\n",
    "    # create processes\n",
    "    processes = [multiprocessing.Process(target=create_thumbnail, args=[filename]) \n",
    "                for filename in filenames]\n",
    "\n",
    "    # start the processes\n",
    "    for process in processes:\n",
    "        process.start()\n",
    "\n",
    "    # wait for completion\n",
    "    for process in processes:\n",
    "        process.join()\n",
    "\n",
    "    finish = time.perf_counter()\n",
    "\n",
    "    print(f'It took {finish-start: .2f} second(s) to finish')"
   ]
  },
  {
   "cell_type": "code",
   "execution_count": 10,
   "id": "9e90f9b0",
   "metadata": {},
   "outputs": [
    {
     "name": "stdout",
     "output_type": "stream",
     "text": [
      "images/3.jpg was processed...\n",
      "images/2.jpg was processed...\n",
      "images/1.jpg was processed...\n",
      "images/4.jpg was processed...\n",
      "images/5.jpg was processed...\n",
      "It took  1.46 second(s) to finish\n"
     ]
    }
   ],
   "source": [
    "# WITH PROCESSPOOLEXECUTOR\n",
    "import time\n",
    "import os\n",
    "from concurrent.futures import ProcessPoolExecutor\n",
    "from PIL import Image, ImageFilter\n",
    "from task_sample import create_thumbnail\n",
    "\n",
    "filenames = [\n",
    "    'images/1.jpg',\n",
    "    'images/2.jpg',\n",
    "    'images/3.jpg',\n",
    "    'images/4.jpg',\n",
    "    'images/5.jpg',\n",
    "]\n",
    "\n",
    "if __name__ == '__main__':\n",
    "    start = time.perf_counter()\n",
    "\n",
    "    with ProcessPoolExecutor() as executor:\n",
    "        executor.map(create_thumbnail, filenames)\n",
    "   \n",
    "    finish = time.perf_counter()\n",
    "\n",
    "    print(f'It took {finish-start: .2f} second(s) to finish')"
   ]
  },
  {
   "cell_type": "code",
   "execution_count": null,
   "id": "cf5c5b60",
   "metadata": {},
   "outputs": [],
   "source": []
  }
 ],
 "metadata": {
  "kernelspec": {
   "display_name": "Python 3 (ipykernel)",
   "language": "python",
   "name": "python3"
  },
  "language_info": {
   "codemirror_mode": {
    "name": "ipython",
    "version": 3
   },
   "file_extension": ".py",
   "mimetype": "text/x-python",
   "name": "python",
   "nbconvert_exporter": "python",
   "pygments_lexer": "ipython3",
   "version": "3.9.7"
  }
 },
 "nbformat": 4,
 "nbformat_minor": 5
}
