{
 "cells": [
  {
   "cell_type": "code",
   "execution_count": 9,
   "id": "f50c0c62",
   "metadata": {},
   "outputs": [
    {
     "name": "stdout",
     "output_type": "stream",
     "text": [
      "It took  9.31 second(s) to finish\n"
     ]
    }
   ],
   "source": [
    "import time\n",
    "\n",
    "def task(n=100_000_000):\n",
    "    while n:\n",
    "        n -= 1\n",
    "\n",
    "if __name__ == '__main__':\n",
    "    start = time.perf_counter()\n",
    "    task()\n",
    "    task()\n",
    "    finish = time.perf_counter()\n",
    "\n",
    "    print(f'It took {finish-start: .2f} second(s) to finish')"
   ]
  },
  {
   "cell_type": "code",
   "execution_count": 10,
   "id": "bf70bffd",
   "metadata": {},
   "outputs": [
    {
     "name": "stdout",
     "output_type": "stream",
     "text": [
      "It took  5.88 second(s) to finish\n"
     ]
    }
   ],
   "source": [
    "import time\n",
    "import multiprocessing\n",
    "from task_sample import task\n",
    "\n",
    "if __name__  ==  '__main__':\n",
    "    start = time.perf_counter()\n",
    "\n",
    "    p1 = multiprocessing.Process(target=task)\n",
    "    p2 = multiprocessing.Process(target=task)\n",
    "\n",
    "    p1.start()\n",
    "    p2.start()\n",
    "\n",
    "    p1.join()\n",
    "    p2.join()\n",
    "\n",
    "    finish = time.perf_counter()\n",
    "\n",
    "    print(f'It took {finish-start: .2f} second(s) to finish')"
   ]
  },
  {
   "cell_type": "code",
   "execution_count": null,
   "id": "74f2cf65",
   "metadata": {},
   "outputs": [],
   "source": []
  },
  {
   "cell_type": "code",
   "execution_count": null,
   "id": "7803af8e",
   "metadata": {},
   "outputs": [],
   "source": []
  }
 ],
 "metadata": {
  "kernelspec": {
   "display_name": "Python 3 (ipykernel)",
   "language": "python",
   "name": "python3"
  },
  "language_info": {
   "codemirror_mode": {
    "name": "ipython",
    "version": 3
   },
   "file_extension": ".py",
   "mimetype": "text/x-python",
   "name": "python",
   "nbconvert_exporter": "python",
   "pygments_lexer": "ipython3",
   "version": "3.9.7"
  }
 },
 "nbformat": 4,
 "nbformat_minor": 5
}
