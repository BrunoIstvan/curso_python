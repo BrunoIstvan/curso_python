{
 "cells": [
  {
   "cell_type": "code",
   "execution_count": 2,
   "id": "50f6725c",
   "metadata": {},
   "outputs": [
    {
     "name": "stdout",
     "output_type": "stream",
     "text": [
      "Starting the task 1...Starting the task 2...\n",
      "Starting the task 3...\n",
      "\n",
      "Starting the task 4...Starting the task 5...\n",
      "\n",
      "Starting the task 6...\n",
      "Starting the task 7...\n",
      "Starting the task 8...\n",
      "Starting the task 9...\n",
      "Starting the task 10...\n",
      "The task 3 completed\n",
      "The task 1 completed\n",
      "The task 2 completed\n",
      "\n",
      "\n",
      "\n",
      "The task 4 completed\n",
      "The task 5 completed\n",
      "\n",
      "\n",
      "The task 6 completed\n",
      "The task 7 completed\n",
      "\n",
      "\n",
      "The task 8 completed\n",
      "\n",
      "The task 10 completed\n",
      "The task 9 completed\n",
      "\n",
      "\n",
      "It took  1.02 second(s) to complete.\n"
     ]
    }
   ],
   "source": [
    "from time import sleep, perf_counter\n",
    "from threading import Thread\n",
    "\n",
    "\n",
    "def task(id):\n",
    "    print(f'Starting the task {id}...')\n",
    "    sleep(1)\n",
    "    print(f'The task {id} completed\\n')\n",
    "\n",
    "\n",
    "start_time = perf_counter()\n",
    "\n",
    "# create and start 10 threads\n",
    "threads = []\n",
    "for n in range(1, 11):\n",
    "    t = Thread(target=task, args=(n,))\n",
    "    threads.append(t)\n",
    "    t.start()\n",
    "\n",
    "# wait for the threads to complete\n",
    "for t in threads:\n",
    "    t.join()\n",
    "\n",
    "end_time = perf_counter()\n",
    "\n",
    "print(f'It took {end_time- start_time: 0.2f} second(s) to complete.')"
   ]
  },
  {
   "cell_type": "code",
   "execution_count": null,
   "id": "d2c4be46",
   "metadata": {},
   "outputs": [],
   "source": []
  }
 ],
 "metadata": {
  "kernelspec": {
   "display_name": "Python 3 (ipykernel)",
   "language": "python",
   "name": "python3"
  },
  "language_info": {
   "codemirror_mode": {
    "name": "ipython",
    "version": 3
   },
   "file_extension": ".py",
   "mimetype": "text/x-python",
   "name": "python",
   "nbconvert_exporter": "python",
   "pygments_lexer": "ipython3",
   "version": "3.9.7"
  }
 },
 "nbformat": 4,
 "nbformat_minor": 5
}
