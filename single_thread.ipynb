{
 "cells": [
  {
   "cell_type": "code",
   "execution_count": 1,
   "id": "7ec3103d",
   "metadata": {},
   "outputs": [
    {
     "name": "stdout",
     "output_type": "stream",
     "text": [
      "Starting a task...\n",
      "done\n",
      "Starting a task...\n",
      "done\n",
      "It took  2.00 second(s) to complete.\n"
     ]
    }
   ],
   "source": [
    "from time import sleep, perf_counter\n",
    "\n",
    "def task():\n",
    "    print('Starting a task...')\n",
    "    sleep(1)\n",
    "    print('done')\n",
    "\n",
    "\n",
    "start_time = perf_counter()\n",
    "\n",
    "task()\n",
    "task()\n",
    "\n",
    "end_time = perf_counter()\n",
    "\n",
    "print(f'It took {end_time- start_time: 0.2f} second(s) to complete.')\n"
   ]
  },
  {
   "cell_type": "code",
   "execution_count": null,
   "id": "33d502d6",
   "metadata": {},
   "outputs": [],
   "source": []
  }
 ],
 "metadata": {
  "kernelspec": {
   "display_name": "Python 3 (ipykernel)",
   "language": "python",
   "name": "python3"
  },
  "language_info": {
   "codemirror_mode": {
    "name": "ipython",
    "version": 3
   },
   "file_extension": ".py",
   "mimetype": "text/x-python",
   "name": "python",
   "nbconvert_exporter": "python",
   "pygments_lexer": "ipython3",
   "version": "3.9.7"
  }
 },
 "nbformat": 4,
 "nbformat_minor": 5
}
