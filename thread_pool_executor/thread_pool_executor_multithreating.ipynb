{
 "cells": [
  {
   "cell_type": "code",
   "execution_count": 1,
   "id": "099a6a0a",
   "metadata": {},
   "outputs": [
    {
     "name": "stdout",
     "output_type": "stream",
     "text": [
      "Baby_carpet_python_caudal_luring.jpg was downloaded...\n",
      "Python_Regius.jpg was downloaded...\n",
      "Python_bivittatus_1701.jpg was downloaded...\n",
      "Dulip_Wilpattu_Python1.jpg was downloaded...\n",
      "Rock_python_pratik.JPG was downloaded...\n",
      "It took 6.497372262999999 second(s) to finish.\n"
     ]
    }
   ],
   "source": [
    "from concurrent.futures import ThreadPoolExecutor\n",
    "from urllib.request import urlopen\n",
    "import time\n",
    "import os\n",
    "\n",
    "def download_image(url):\n",
    "    image_data = None\n",
    "    with urlopen(url) as f:\n",
    "        image_data = f.read()\n",
    "\n",
    "    if not image_data:\n",
    "        raise Exception(f\"Error: could not download the image from {url}\")\n",
    "\n",
    "    filename = os.path.basename(url)\n",
    "    with open(filename, 'wb') as image_file:\n",
    "        image_file.write(image_data)\n",
    "        print(f'{filename} was downloaded...')\n",
    "\n",
    "start = time.perf_counter()\n",
    "\n",
    "urls = ['https://upload.wikimedia.org/wikipedia/commons/9/9d/Python_bivittatus_1701.jpg',\n",
    "        'https://upload.wikimedia.org/wikipedia/commons/4/48/Python_Regius.jpg',\n",
    "        'https://upload.wikimedia.org/wikipedia/commons/d/d3/Baby_carpet_python_caudal_luring.jpg',\n",
    "        'https://upload.wikimedia.org/wikipedia/commons/f/f0/Rock_python_pratik.JPG',\n",
    "        'https://upload.wikimedia.org/wikipedia/commons/0/07/Dulip_Wilpattu_Python1.jpg']\n",
    "\n",
    "with ThreadPoolExecutor() as executor:\n",
    "      executor.map(download_image, urls)\n",
    "\n",
    "finish = time.perf_counter()    \n",
    "\n",
    "print(f'It took {finish-start} second(s) to finish.')"
   ]
  },
  {
   "cell_type": "code",
   "execution_count": null,
   "id": "0f8b66d5",
   "metadata": {},
   "outputs": [],
   "source": []
  }
 ],
 "metadata": {
  "kernelspec": {
   "display_name": "Python 3 (ipykernel)",
   "language": "python",
   "name": "python3"
  },
  "language_info": {
   "codemirror_mode": {
    "name": "ipython",
    "version": 3
   },
   "file_extension": ".py",
   "mimetype": "text/x-python",
   "name": "python",
   "nbconvert_exporter": "python",
   "pygments_lexer": "ipython3",
   "version": "3.9.7"
  }
 },
 "nbformat": 4,
 "nbformat_minor": 5
}
