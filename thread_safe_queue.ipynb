{
 "cells": [
  {
   "cell_type": "code",
   "execution_count": 2,
   "id": "3c52c639",
   "metadata": {},
   "outputs": [
    {
     "name": "stdout",
     "output_type": "stream",
     "text": [
      "Inserting item 1 into the queue\n",
      "\n",
      "Inserting item 2 into the queue\n",
      "Processing item 1\n",
      "\n",
      "\n",
      "Inserting item 3 into the queue\n",
      "\n",
      "Processing item 2\n",
      "\n",
      "Inserting item 4 into the queue\n",
      "\n",
      "Inserting item 5 into the queue\n",
      "\n",
      "Processing item 3\n",
      "\n",
      "Processing item 4\n",
      "\n",
      "Processing item 5\n",
      "\n"
     ]
    }
   ],
   "source": [
    "import time\n",
    "from queue import Empty, Queue\n",
    "from threading import Thread\n",
    "\n",
    "\n",
    "def producer(queue):\n",
    "    for i in range(1, 6):\n",
    "        print(f'Inserting item {i} into the queue\\n')\n",
    "        time.sleep(1)\n",
    "        queue.put(i)\n",
    "\n",
    "\n",
    "def consumer(queue):\n",
    "    while True:\n",
    "        try:\n",
    "            item = queue.get()\n",
    "        except Empty:\n",
    "            continue\n",
    "        else:\n",
    "            print(f'Processing item {item}\\n')\n",
    "            time.sleep(2)\n",
    "            queue.task_done()\n",
    "\n",
    "\n",
    "def main():\n",
    "    queue = Queue()\n",
    "\n",
    "    # create a producer thread and start it\n",
    "    producer_thread = Thread(\n",
    "        target=producer,\n",
    "        args=(queue,)\n",
    "    )\n",
    "    producer_thread.start()\n",
    "\n",
    "    # create a consumer thread and start it\n",
    "    consumer_thread = Thread(\n",
    "        target=consumer,\n",
    "        args=(queue,),\n",
    "        daemon=True\n",
    "    )\n",
    "    consumer_thread.start()\n",
    "\n",
    "    # wait for all tasks to be added to the queue\n",
    "    producer_thread.join()\n",
    "\n",
    "    # wait for all tasks on the queue to be completed\n",
    "    queue.join()\n",
    "\n",
    "\n",
    "if __name__ == '__main__':\n",
    "    main()"
   ]
  },
  {
   "cell_type": "code",
   "execution_count": null,
   "id": "d812b65e",
   "metadata": {},
   "outputs": [],
   "source": []
  }
 ],
 "metadata": {
  "kernelspec": {
   "display_name": "Python 3 (ipykernel)",
   "language": "python",
   "name": "python3"
  },
  "language_info": {
   "codemirror_mode": {
    "name": "ipython",
    "version": 3
   },
   "file_extension": ".py",
   "mimetype": "text/x-python",
   "name": "python",
   "nbconvert_exporter": "python",
   "pygments_lexer": "ipython3",
   "version": "3.9.7"
  }
 },
 "nbformat": 4,
 "nbformat_minor": 5
}
